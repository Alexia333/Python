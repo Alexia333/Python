{
 "cells": [
  {
   "cell_type": "code",
   "execution_count": null,
   "metadata": {},
   "outputs": [],
   "source": [
    "# Ejercicio 1\n",
    "'''\n",
    "Escribe una función que reciba una cadena de texto como parámetro y devuelva un diccionario con las frecuencias de cada letra en la cadena. Los espacios no deben ser considerados.\n",
    "'''\n",
    "\n",
    "def frencuencia_letras (cadena):\n",
    "    frecuencia = {}\n",
    "\n",
    "    for caracter in cadena:\n",
    "        if caracter.isalpha(): # .isalpha es para asegurarse de que solo cuenta las letras y no los espacios (lo tuve que buscar)\n",
    "            if caracter in frecuencia:\n",
    "                frecuencia [caracter] += 1\n",
    "            \n",
    "            else:\n",
    "                frecuencia [caracter] = 1\n",
    "    \n",
    "    return frecuencia"
   ]
  },
  {
   "cell_type": "code",
   "execution_count": 17,
   "metadata": {},
   "outputs": [],
   "source": [
    "# Ejemplo de uso\n",
    "texto = \"buenos dias\""
   ]
  },
  {
   "cell_type": "code",
   "execution_count": 20,
   "metadata": {},
   "outputs": [
    {
     "name": "stdout",
     "output_type": "stream",
     "text": [
      "{'b': 1, 'u': 1, 'e': 1, 'n': 1, 'o': 1, 's': 2, 'd': 1, 'i': 1, 'a': 1}\n"
     ]
    }
   ],
   "source": [
    "resultado = frencuencia_letras (texto)\n",
    "print(resultado)"
   ]
  },
  {
   "cell_type": "code",
   "execution_count": null,
   "metadata": {},
   "outputs": [],
   "source": [
    "# Ejercicio 2\n",
    "'''\n",
    "Dada una lista de números, obtén una nueva lista con el doble de cada valor. Usa la función map().\n",
    "'''\n",
    "\n",
    "def doble_listas (lista1, lista2):\n",
    "    doble = list (map (lambda x, y: 2 * (x + y), lista_a, lista_b))\n",
    "    return doble\n"
   ]
  },
  {
   "cell_type": "code",
   "execution_count": 14,
   "metadata": {},
   "outputs": [],
   "source": [
    "# Ejemplo de uso\n",
    "lista_a = [10, 20, 30, 40, 50]\n",
    "lista_b = [5, 9, 12, 27, 62]"
   ]
  },
  {
   "cell_type": "code",
   "execution_count": 15,
   "metadata": {},
   "outputs": [
    {
     "name": "stdout",
     "output_type": "stream",
     "text": [
      "[30, 58, 84, 134, 224]\n"
     ]
    }
   ],
   "source": [
    "resultado = doble_listas(lista_a, lista_b)\n",
    "print(resultado)"
   ]
  },
  {
   "cell_type": "code",
   "execution_count": null,
   "metadata": {},
   "outputs": [],
   "source": [
    "# Ejercicio 3\n",
    "'''\n",
    "Escribe una función que tome una lista de palabras y una palabra objetivo como parámetros. La función debe \n",
    "devolver una lista con todas las palabras de la lista original que contengan la palabra objetivo.\n",
    "'''\n",
    "\n",
    "def buscar_palabra (lista, objetivo):\n",
    "    contienen_objetivo = []\n",
    "\n",
    "    for palabra in lista:\n",
    "        if objetivo in palabra:\n",
    "            contienen_objetivo.append(palabra)\n",
    "    \n",
    "    return contienen_objetivo"
   ]
  },
  {
   "cell_type": "code",
   "execution_count": 24,
   "metadata": {},
   "outputs": [],
   "source": [
    "# Ejemplo de uso\n",
    "lista_c = [\"edificio\", \"almidón\", \"cemento\", \"alambre\", \"manantial\"]\n",
    "palabra_clave = \"al\""
   ]
  },
  {
   "cell_type": "code",
   "execution_count": 25,
   "metadata": {},
   "outputs": [
    {
     "name": "stdout",
     "output_type": "stream",
     "text": [
      "['almidón', 'alambre', 'manantial']\n"
     ]
    }
   ],
   "source": [
    "resultado = buscar_palabra(lista_c, palabra_clave)\n",
    "print(resultado)"
   ]
  },
  {
   "cell_type": "code",
   "execution_count": null,
   "metadata": {},
   "outputs": [],
   "source": [
    "# Ejercicio 4\n",
    "'''\n",
    "Genera una función que calcule la diferencia entre los valores de dos listas. Usa la función map().\n",
    "'''\n",
    "\n",
    "def diferencia_listas (lista1, lista2):\n",
    "    if len (lista1) != len (lista2):\n",
    "        raise ValueError ('Las listas deben tener la misma longitud')\n",
    "    \n",
    "    diferencias = list (map (lambda x, y: x - y, lista1, lista2))\n",
    "    return diferencias"
   ]
  },
  {
   "cell_type": "code",
   "execution_count": 2,
   "metadata": {},
   "outputs": [],
   "source": [
    "# Ejemplo de uso\n",
    "lista_a = [10, 20, 30, 40, 50]\n",
    "lista_b = [5, 9, 12, 27, 62]"
   ]
  },
  {
   "cell_type": "code",
   "execution_count": 9,
   "metadata": {},
   "outputs": [
    {
     "name": "stdout",
     "output_type": "stream",
     "text": [
      "[5, 11, 18, 13, -12]\n"
     ]
    }
   ],
   "source": [
    "resultado = diferencia_listas(lista_a, lista_b)\n",
    "print(resultado)"
   ]
  },
  {
   "cell_type": "code",
   "execution_count": null,
   "metadata": {},
   "outputs": [],
   "source": [
    "# Ejercicio 5\n",
    "'''\n",
    "Escribe una función que tome una lista de números como parámetro y un valor opcional nota_aprobado, que por\n",
    "defecto es 5. La función debe calcular la media de los números en la lista y determinar si la media es mayor o igual\n",
    "que nota aprobado. Si es así, el estado será \"aprobado\", de lo contrario, será \"suspenso\". La función debe devolver\n",
    "una tupla que contenga la media y el estado.\n",
    "'''\n",
    "\n",
    "def media_estado (lista, nota_aprobado = 5):\n",
    "    media = sum (lista) / len (lista)\n",
    "\n",
    "    if media >= nota_aprobado:\n",
    "        estado = \"aprobado\"\n",
    "\n",
    "    else:\n",
    "        estado = \"suspenso\"\n",
    "\n",
    "    return media, estado"
   ]
  },
  {
   "cell_type": "code",
   "execution_count": null,
   "metadata": {},
   "outputs": [],
   "source": [
    "# Ejemplo de uso\n",
    "lista_a = [5, 7, 9, 10, 4]"
   ]
  },
  {
   "cell_type": "code",
   "execution_count": 28,
   "metadata": {},
   "outputs": [
    {
     "name": "stdout",
     "output_type": "stream",
     "text": [
      "(7.0, 'aprobado')\n"
     ]
    }
   ],
   "source": [
    "resultado = media_estado(lista_a)\n",
    "print(resultado)"
   ]
  },
  {
   "cell_type": "code",
   "execution_count": null,
   "metadata": {},
   "outputs": [],
   "source": [
    "# Ejercicio 6\n",
    "'''\n",
    "Escribe una función que calcule el factorial de un número de manera recursiva.\n",
    "'''\n",
    "\n",
    "def calcular_factorial (numero):\n",
    "    if numero == 0:\n",
    "        return 1\n",
    "    \n",
    "    else:\n",
    "        return numero * calcular_factorial (numero - 1)"
   ]
  },
  {
   "cell_type": "code",
   "execution_count": 37,
   "metadata": {},
   "outputs": [],
   "source": [
    "# Ejemplo de uso\n",
    "num = 7"
   ]
  },
  {
   "cell_type": "code",
   "execution_count": 38,
   "metadata": {},
   "outputs": [
    {
     "name": "stdout",
     "output_type": "stream",
     "text": [
      "5040\n"
     ]
    }
   ],
   "source": [
    "resultado = calcular_factorial(num)\n",
    "print(resultado)"
   ]
  },
  {
   "cell_type": "code",
   "execution_count": null,
   "metadata": {},
   "outputs": [],
   "source": [
    "# Ejercicio 7\n",
    "'''\n",
    "Genera una función que convierta una lista de tuplas a una lista de strings. Usa la función map().\n",
    "'''\n",
    "\n",
    "def tuplas_strings (lista):\n",
    "    return list (map (lambda x: str(x), lista))"
   ]
  },
  {
   "cell_type": "code",
   "execution_count": 40,
   "metadata": {},
   "outputs": [],
   "source": [
    "# Ejemplo de uso\n",
    "lista_tuplas = [(6, 8), (4, 4), (2, 1), (5, 9)]"
   ]
  },
  {
   "cell_type": "code",
   "execution_count": 41,
   "metadata": {},
   "outputs": [
    {
     "name": "stdout",
     "output_type": "stream",
     "text": [
      "['(6, 8)', '(4, 4)', '(2, 1)', '(5, 9)']\n"
     ]
    }
   ],
   "source": [
    "resultado = tuplas_strings (lista_tuplas)\n",
    "print(resultado)"
   ]
  },
  {
   "cell_type": "code",
   "execution_count": null,
   "metadata": {},
   "outputs": [],
   "source": [
    "# Ejercicio 8\n",
    "'''\n",
    "Escribe un programa que pida al usuario dos números e intente dividirlos. Si el usuario ingresa un valor no numérico\n",
    "o intenta dividir por cero, maneja esas excepciones de manera adecuada. Asegúrate de mostrar un mensaje\n",
    "indicando si la división fue exitosa o no.\n",
    "'''\n",
    "\n",
    "def division_excepciones (): # Tuve que mirar lo del try, except y tema de errores de otra asignatura para este ejercicio\n",
    "    try:\n",
    "        num1 = float (input(\"Ingrese el primer número\"))\n",
    "        num2 = float (input (\"Ingrese el segundo número\"))\n",
    "\n",
    "        resultado = num1 / num2\n",
    "\n",
    "    except ValueError:\n",
    "        print(\"No es un valor numérico\")\n",
    "    \n",
    "    except ZeroDivisionError:\n",
    "        print(\"No se puede dividir por cero\")\n",
    "    \n",
    "    else:\n",
    "        print(f\"la división ha sido existosa y el resultado es {resultado}\")"
   ]
  },
  {
   "cell_type": "code",
   "execution_count": 10,
   "metadata": {},
   "outputs": [
    {
     "name": "stdout",
     "output_type": "stream",
     "text": [
      "No es un valor numérico\n"
     ]
    }
   ],
   "source": [
    "division_excepciones()"
   ]
  },
  {
   "cell_type": "code",
   "execution_count": null,
   "metadata": {},
   "outputs": [],
   "source": [
    "# Ejercicio 9\n",
    "'''\n",
    "Escribe una función que tome una lista de nombres de mascotas como parámetro y devuelva una nueva lista\n",
    "excluyendo ciertas mascotas prohibidas en España. La lista de mascotas a excluir es [\"Mapache\", \"Tigre\",\n",
    "\"Serpiente Pitón\", \"Cocodrilo\", \"Oso\"].Usa la función filter().\n",
    "'''\n",
    "\n",
    "def filtro_mascotas (lista):\n",
    "    mascotas_prohibidas = [\"Mapache\", \"Tigre\", \"Serpiente Pitón\", \"Cocodrilo\", \"Oso\"]\n",
    "\n",
    "    mascotas_permitidas = list (filter (lambda x: x not in mascotas_prohibidas, lista))\n",
    "\n",
    "    return mascotas_permitidas"
   ]
  },
  {
   "cell_type": "code",
   "execution_count": 2,
   "metadata": {},
   "outputs": [],
   "source": [
    "# Ejemplo de uso\n",
    "mascotas_ejemplo = [\"Perro\", \"Gato\", \"Cocodrilo\", \"Hamster\", \"Mapache\"]"
   ]
  },
  {
   "cell_type": "code",
   "execution_count": 3,
   "metadata": {},
   "outputs": [
    {
     "name": "stdout",
     "output_type": "stream",
     "text": [
      "['Perro', 'Gato', 'Hamster']\n"
     ]
    }
   ],
   "source": [
    "resultado = filtro_mascotas (mascotas_ejemplo)\n",
    "print(resultado)"
   ]
  },
  {
   "cell_type": "code",
   "execution_count": null,
   "metadata": {},
   "outputs": [],
   "source": [
    "# Ejercicio 10\n",
    "'''\n",
    "Escribe una función que reciba una lista de números y calcule su promedio. Si la lista está vacía, lanza una\n",
    "excepción personalizada y maneja el error adecuadamente.\n",
    "'''\n",
    "\n",
    "def calcular_promedio (lista_numeros):\n",
    "    if len (lista_numeros) == 0:\n",
    "        raise ValueError ('La lista está vacía.')\n",
    "    return sum (lista_numeros) / len (lista_numeros)"
   ]
  },
  {
   "cell_type": "code",
   "execution_count": 4,
   "metadata": {},
   "outputs": [
    {
     "data": {
      "text/plain": [
       "3.0"
      ]
     },
     "execution_count": 4,
     "metadata": {},
     "output_type": "execute_result"
    }
   ],
   "source": [
    "calcular_promedio([1, 2, 3, 4, 5])"
   ]
  },
  {
   "cell_type": "code",
   "execution_count": 5,
   "metadata": {},
   "outputs": [
    {
     "ename": "ValueError",
     "evalue": "La lista está vacía.",
     "output_type": "error",
     "traceback": [
      "\u001b[1;31m---------------------------------------------------------------------------\u001b[0m",
      "\u001b[1;31mValueError\u001b[0m                                Traceback (most recent call last)",
      "Cell \u001b[1;32mIn[5], line 1\u001b[0m\n\u001b[1;32m----> 1\u001b[0m \u001b[43mcalcular_promedio\u001b[49m\u001b[43m \u001b[49m\u001b[43m(\u001b[49m\u001b[43m[\u001b[49m\u001b[43m]\u001b[49m\u001b[43m)\u001b[49m \u001b[38;5;66;03m# Debería lanzar una excepción\u001b[39;00m\n",
      "Cell \u001b[1;32mIn[3], line 5\u001b[0m, in \u001b[0;36mcalcular_promedio\u001b[1;34m(lista_numeros)\u001b[0m\n\u001b[0;32m      3\u001b[0m \u001b[38;5;28;01mdef\u001b[39;00m\u001b[38;5;250m \u001b[39m\u001b[38;5;21mcalcular_promedio\u001b[39m (lista_numeros):\n\u001b[0;32m      4\u001b[0m     \u001b[38;5;28;01mif\u001b[39;00m \u001b[38;5;28mlen\u001b[39m (lista_numeros) \u001b[38;5;241m==\u001b[39m \u001b[38;5;241m0\u001b[39m:\n\u001b[1;32m----> 5\u001b[0m         \u001b[38;5;28;01mraise\u001b[39;00m \u001b[38;5;167;01mValueError\u001b[39;00m (\u001b[38;5;124m'\u001b[39m\u001b[38;5;124mLa lista está vacía.\u001b[39m\u001b[38;5;124m'\u001b[39m)\n\u001b[0;32m      6\u001b[0m     \u001b[38;5;28;01mreturn\u001b[39;00m \u001b[38;5;28msum\u001b[39m (lista_numeros) \u001b[38;5;241m/\u001b[39m \u001b[38;5;28mlen\u001b[39m (lista_numeros)\n",
      "\u001b[1;31mValueError\u001b[0m: La lista está vacía."
     ]
    }
   ],
   "source": [
    "calcular_promedio ([]) # Debería lanzar una excepción"
   ]
  },
  {
   "cell_type": "code",
   "execution_count": null,
   "metadata": {},
   "outputs": [],
   "source": [
    "# Ejercicio 11\n",
    "'''\n",
    "Escribe un programa que pida al usuario que introduzca su edad. Si el usuario ingresa un valor no numérico o un\n",
    "valor fuera del rango esperado (por ejemplo, menor que 0 o mayor que 120), maneja las excepciones\n",
    "adecuadamente.\n",
    "'''\n",
    "\n",
    "def excepciones_edad ():\n",
    "    try:\n",
    "        edad = int (input (\"Por favor, introduzca su edad\"))\n",
    "\n",
    "        if edad < 0 or edad > 120:\n",
    "            print(\"El valor de edad no corresponde al rango esperado\")\n",
    "\n",
    "        else:\n",
    "            print(f\"El valor de edad es válido. Su edad es {edad}\")\n",
    "\n",
    "    except ValueError:\n",
    "        print(\"El valor introducido no es numérico\")"
   ]
  },
  {
   "cell_type": "code",
   "execution_count": 12,
   "metadata": {},
   "outputs": [
    {
     "name": "stdout",
     "output_type": "stream",
     "text": [
      "El valor de edad es válido. Su edad es 5\n"
     ]
    }
   ],
   "source": [
    "excepciones_edad()"
   ]
  },
  {
   "cell_type": "code",
   "execution_count": null,
   "metadata": {},
   "outputs": [],
   "source": [
    "# Ejercicio 12\n",
    "'''\n",
    "Genera una función que al recibir una frase devuelva una lista con la longitud de cada palabra. Usa la función map().\n",
    "'''\n",
    "\n",
    "def longitud_palabras (frase):\n",
    "    palabras = frase.split()\n",
    "    longitudes = list (map (lambda x: len (x), palabras))\n",
    "    return longitudes"
   ]
  },
  {
   "cell_type": "code",
   "execution_count": 7,
   "metadata": {},
   "outputs": [],
   "source": [
    "# Un par de ejemplos de uso:\n",
    "frase_1 = 'Cuando zarpa el amor navega a ciegas es quien lleva el timón'\n",
    "frase_2 = 'Tres tristes tigres tragaban trigo en un trigal'"
   ]
  },
  {
   "cell_type": "code",
   "execution_count": 8,
   "metadata": {},
   "outputs": [
    {
     "name": "stdout",
     "output_type": "stream",
     "text": [
      "[6, 5, 2, 4, 6, 1, 6, 2, 5, 5, 2, 5]\n",
      "[4, 7, 6, 8, 5, 2, 2, 6]\n"
     ]
    }
   ],
   "source": [
    "print (longitud_palabras (frase_1))\n",
    "print (longitud_palabras (frase_2))"
   ]
  },
  {
   "cell_type": "code",
   "execution_count": null,
   "metadata": {},
   "outputs": [],
   "source": [
    "# Ejercicio 13\n",
    "'''\n",
    "Genera una función la cual, para un conjunto de caracteres, devuelva una lista de tuplas con cada letra en\n",
    "mayúsculas y minúsculas. Las letras no pueden estar repetidas .Usa la función map().\n",
    "'''\n",
    "\n",
    "def tuplas_letras (caracteres):\n",
    "    conjunto_caracteres = set (caracteres)\n",
    "\n",
    "    lista_tuplas = list (map (lambda x: (x.lower(), x.upper()), conjunto_caracteres))\n",
    "\n",
    "    return lista_tuplas"
   ]
  },
  {
   "cell_type": "code",
   "execution_count": 14,
   "metadata": {},
   "outputs": [],
   "source": [
    "# Ejemplo de uso\n",
    "texto = \"JjuiopHGGr\""
   ]
  },
  {
   "cell_type": "code",
   "execution_count": 15,
   "metadata": {},
   "outputs": [
    {
     "name": "stdout",
     "output_type": "stream",
     "text": [
      "[('p', 'P'), ('j', 'J'), ('h', 'H'), ('o', 'O'), ('u', 'U'), ('r', 'R'), ('g', 'G'), ('j', 'J'), ('i', 'I')]\n"
     ]
    }
   ],
   "source": [
    "resultado = tuplas_letras (texto)\n",
    "print(resultado)"
   ]
  },
  {
   "cell_type": "code",
   "execution_count": null,
   "metadata": {},
   "outputs": [],
   "source": [
    "# Ejercicio 14\n",
    "'''\n",
    "Crea una función que retorne las palabras de una lista de palabras que comience con una letra en especifico. Usa la\n",
    "función filter().\n",
    "'''\n",
    "\n",
    "def filtro_lista (lista, letra):\n",
    "    lista_filtrada = list (filter (lambda x: x.startswith(letra), lista))\n",
    "\n",
    "    return lista_filtrada"
   ]
  },
  {
   "cell_type": "code",
   "execution_count": 23,
   "metadata": {},
   "outputs": [],
   "source": [
    "# Ejemplo de uso\n",
    "lista_c = [\"ecuador\", \"perú\", \"españa\", \"francia\", \"estonia\"]\n",
    "letra_elegida = \"e\""
   ]
  },
  {
   "cell_type": "code",
   "execution_count": 24,
   "metadata": {},
   "outputs": [
    {
     "name": "stdout",
     "output_type": "stream",
     "text": [
      "['ecuador', 'españa', 'estonia']\n"
     ]
    }
   ],
   "source": [
    "resultado = filtro_lista (lista_c, letra_elegida)\n",
    "print(resultado)"
   ]
  },
  {
   "cell_type": "code",
   "execution_count": null,
   "metadata": {},
   "outputs": [],
   "source": [
    "# Ejercicio 15\n",
    "'''\n",
    "Crea una función lambda que sume 3 a cada número de una lista dada.\n",
    "'''\n",
    "\n",
    "def sumar_3 (lista):\n",
    "    suma = list (map (lambda x: x + 3, lista))\n",
    "\n",
    "    return suma"
   ]
  },
  {
   "cell_type": "code",
   "execution_count": 26,
   "metadata": {},
   "outputs": [],
   "source": [
    "# Ejemplo de uso\n",
    "lista_b = [3, 9, 6, 2, 1, 1]"
   ]
  },
  {
   "cell_type": "code",
   "execution_count": 27,
   "metadata": {},
   "outputs": [
    {
     "name": "stdout",
     "output_type": "stream",
     "text": [
      "[6, 12, 9, 5, 4, 4]\n"
     ]
    }
   ],
   "source": [
    "resultado = sumar_3 (lista_b)\n",
    "print(resultado)"
   ]
  },
  {
   "cell_type": "code",
   "execution_count": null,
   "metadata": {},
   "outputs": [],
   "source": [
    "# Ejercicio 16\n",
    "'''\n",
    "Escribe una función que tome una cadena de texto y un número entero n como parámetros y devuelva una lista de\n",
    "todas las palabras que sean más largas que n. Usa la función filter().\n",
    "'''\n",
    "\n",
    "def palabras_largas (cadena, entero):\n",
    "    palabras = cadena.split()\n",
    "\n",
    "    palabras_filtradas = list (filter (lambda x: len (x) > entero, palabras))\n",
    "\n",
    "    return palabras_filtradas"
   ]
  },
  {
   "cell_type": "code",
   "execution_count": 29,
   "metadata": {},
   "outputs": [],
   "source": [
    "# Ejemplo de uso\n",
    "texto = \"Buenos días a todas las personas\"\n",
    "numero = 4"
   ]
  },
  {
   "cell_type": "code",
   "execution_count": 30,
   "metadata": {},
   "outputs": [
    {
     "name": "stdout",
     "output_type": "stream",
     "text": [
      "['Buenos', 'todas', 'personas']\n"
     ]
    }
   ],
   "source": [
    "resultado = palabras_largas (texto, numero)\n",
    "print(resultado)"
   ]
  },
  {
   "cell_type": "code",
   "execution_count": null,
   "metadata": {},
   "outputs": [],
   "source": [
    "# Ejercicio 17\n",
    "'''\n",
    "Crea una función que tome una lista de dígitos y devuelva el número correspondiente. Por ejemplo, [5,7,2]\n",
    "corresponde al número quinientos setenta y dos (572). Usa la función reduce().\n",
    "'''\n",
    "\n",
    "from functools import reduce\n",
    "\n",
    "def digitos_numero (lista):\n",
    "    numero_total = reduce (lambda x, y: x * 10 + y, lista)\n",
    "\n",
    "    return numero_total"
   ]
  },
  {
   "cell_type": "code",
   "execution_count": 32,
   "metadata": {},
   "outputs": [],
   "source": [
    "# Ejemplo de uso\n",
    "lista_a = [2, 7, 4, 1, 3]"
   ]
  },
  {
   "cell_type": "code",
   "execution_count": 33,
   "metadata": {},
   "outputs": [
    {
     "name": "stdout",
     "output_type": "stream",
     "text": [
      "27413\n"
     ]
    }
   ],
   "source": [
    "resultado = digitos_numero (lista_a)\n",
    "print(resultado)"
   ]
  },
  {
   "cell_type": "code",
   "execution_count": null,
   "metadata": {},
   "outputs": [],
   "source": [
    "# Ejercicio 18\n",
    "'''\n",
    "Escribe un programa en Python que cree una lista de diccionarios que contenga información de estudiantes\n",
    "(nombre, edad, calificación) y use la función filter para extraer a los estudiantes con una calificación mayor o igual a\n",
    "90. Usa la función filter().\n",
    "'''\n",
    "\n",
    "def calificacion_alta (lista_diccionarios):\n",
    "    estudiantes_filtrados = list (filter (lambda x: x[\"calificacion\"] >= 90, lista_diccionarios))\n",
    "\n",
    "    return estudiantes_filtrados"
   ]
  },
  {
   "cell_type": "code",
   "execution_count": 35,
   "metadata": {},
   "outputs": [],
   "source": [
    "# Ejemplo de uso\n",
    "lista_diccionario_estudiantes = [{\"nombre\": \"María\", \"edad\": 25, \"calificacion\": 70}, {\"nombre\": \"Juan\", \"edad\": 28, \"calificacion\": 90}, {\"nombre\": \"Pepa\", \"edad\": 22, \"calificacion\": 92}]"
   ]
  },
  {
   "cell_type": "code",
   "execution_count": 36,
   "metadata": {},
   "outputs": [
    {
     "name": "stdout",
     "output_type": "stream",
     "text": [
      "[{'nombre': 'Juan', 'edad': 28, 'calificacion': 90}, {'nombre': 'Pepa', 'edad': 22, 'calificacion': 92}]\n"
     ]
    }
   ],
   "source": [
    "resultado = calificacion_alta (lista_diccionario_estudiantes)\n",
    "print(resultado)"
   ]
  },
  {
   "cell_type": "code",
   "execution_count": null,
   "metadata": {},
   "outputs": [],
   "source": [
    "# Ejercicio 19\n",
    "'''\n",
    "Crea una función lambda que filtre los números impares de una lista dada.\n",
    "'''\n",
    "\n",
    "def buscar_impares (lista):\n",
    "    lista_filtrada = list (filter (lambda x: x % 2 != 0, lista))\n",
    "\n",
    "    return lista_filtrada"
   ]
  },
  {
   "cell_type": "code",
   "execution_count": 38,
   "metadata": {},
   "outputs": [],
   "source": [
    "# Ejemplo de uso\n",
    "lista_b = [4, 8, 2, 1, 7, 7]"
   ]
  },
  {
   "cell_type": "code",
   "execution_count": 39,
   "metadata": {},
   "outputs": [
    {
     "name": "stdout",
     "output_type": "stream",
     "text": [
      "[1, 7, 7]\n"
     ]
    }
   ],
   "source": [
    "resultado = buscar_impares (lista_b)\n",
    "print(resultado)"
   ]
  },
  {
   "cell_type": "code",
   "execution_count": null,
   "metadata": {},
   "outputs": [],
   "source": [
    "# Ejercicio 20\n",
    "'''\n",
    "Para una lista con elementos tipo integer y string obtén una nueva lista sólo con los valores int. Usa la función\n",
    "filter().\n",
    "'''\n",
    "\n",
    "def filtro_enteros (lista):\n",
    "    enteros_filtrados = list (filter (lambda x: type(x) == int, lista))\n",
    "\n",
    "    return enteros_filtrados"
   ]
  },
  {
   "cell_type": "code",
   "execution_count": 41,
   "metadata": {},
   "outputs": [],
   "source": [
    "# Ejemplo de uso\n",
    "lista_mezclada = [\"a\", 1, 2, \"b\", \"c\", 3]"
   ]
  },
  {
   "cell_type": "code",
   "execution_count": 42,
   "metadata": {},
   "outputs": [
    {
     "name": "stdout",
     "output_type": "stream",
     "text": [
      "[1, 2, 3]\n"
     ]
    }
   ],
   "source": [
    "resultado = filtro_enteros (lista_mezclada)\n",
    "print(resultado)"
   ]
  },
  {
   "cell_type": "code",
   "execution_count": null,
   "metadata": {},
   "outputs": [],
   "source": [
    "# Ejercicio 21\n",
    "'''\n",
    "Crea una función que calcule el cubo de un número dado mediante una función lambda.\n",
    "'''\n",
    "\n",
    "def elevar_cubo (numero):\n",
    "    numero_cubo = lambda x: x ** 3\n",
    "\n",
    "    return numero_cubo (numero)"
   ]
  },
  {
   "cell_type": "code",
   "execution_count": 47,
   "metadata": {},
   "outputs": [],
   "source": [
    "# Ejemplo de uso\n",
    "num = 5"
   ]
  },
  {
   "cell_type": "code",
   "execution_count": 48,
   "metadata": {},
   "outputs": [
    {
     "name": "stdout",
     "output_type": "stream",
     "text": [
      "125\n"
     ]
    }
   ],
   "source": [
    "resultado = elevar_cubo (num)\n",
    "print(resultado)"
   ]
  },
  {
   "cell_type": "code",
   "execution_count": null,
   "metadata": {},
   "outputs": [],
   "source": [
    "# Ejercicio 22\n",
    "'''\n",
    "Dada una lista numérica, obtén el producto total de los valores de dicha lista.Usa la función reduce().\n",
    "'''\n",
    "\n",
    "from functools import reduce\n",
    "\n",
    "def producto_total (lista):\n",
    "    total = reduce (lambda x, y: x * y, lista)\n",
    "\n",
    "    return total"
   ]
  },
  {
   "cell_type": "code",
   "execution_count": 50,
   "metadata": {},
   "outputs": [],
   "source": [
    "# Ejemplo de uso\n",
    "lista_b = [4, 7, 3, 5, 8]"
   ]
  },
  {
   "cell_type": "code",
   "execution_count": 52,
   "metadata": {},
   "outputs": [
    {
     "name": "stdout",
     "output_type": "stream",
     "text": [
      "3360\n"
     ]
    }
   ],
   "source": [
    "resultado = producto_total (lista_b)\n",
    "print(resultado)"
   ]
  },
  {
   "cell_type": "code",
   "execution_count": null,
   "metadata": {},
   "outputs": [],
   "source": [
    "# Ejercicio 23\n",
    "'''\n",
    "Concatena una lista de palabras.Usa la función reduce().\n",
    "'''\n",
    "\n",
    "from functools import reduce\n",
    "\n",
    "def concatenar_lista (lista):\n",
    "    palabras_concatenadas = reduce (lambda x, y: x + \" \" + y, lista)\n",
    "\n",
    "    return palabras_concatenadas"
   ]
  },
  {
   "cell_type": "code",
   "execution_count": 54,
   "metadata": {},
   "outputs": [],
   "source": [
    "# Ejemplo de uso\n",
    "texto = [\"buenos\", \"dias\", \"a\", \"todas\", \"las\", \"personas\"]"
   ]
  },
  {
   "cell_type": "code",
   "execution_count": 55,
   "metadata": {},
   "outputs": [
    {
     "name": "stdout",
     "output_type": "stream",
     "text": [
      "buenos dias a todas las personas\n"
     ]
    }
   ],
   "source": [
    "resultado = concatenar_lista (texto)\n",
    "print (resultado)"
   ]
  },
  {
   "cell_type": "code",
   "execution_count": null,
   "metadata": {},
   "outputs": [],
   "source": [
    "# Ejercicio 24\n",
    "'''\n",
    "Calcula la diferencia total en los valores de una lista. Usa la función reduce().\n",
    "'''\n",
    "\n",
    "from functools import reduce\n",
    "\n",
    "def diferencia_total (lista):\n",
    "    total = reduce (lambda x, y: x - y, lista)\n",
    "\n",
    "    return total"
   ]
  },
  {
   "cell_type": "code",
   "execution_count": 58,
   "metadata": {},
   "outputs": [],
   "source": [
    "# Ejemplo de uso\n",
    "lista_a = [13, 5, 2, 1]"
   ]
  },
  {
   "cell_type": "code",
   "execution_count": 59,
   "metadata": {},
   "outputs": [
    {
     "name": "stdout",
     "output_type": "stream",
     "text": [
      "5\n"
     ]
    }
   ],
   "source": [
    "resultado = diferencia_total (lista_a)\n",
    "print(resultado)"
   ]
  },
  {
   "cell_type": "code",
   "execution_count": null,
   "metadata": {},
   "outputs": [],
   "source": [
    "# Ejercicio 25\n",
    "'''\n",
    "Crea una función que cuente el número de caracteres en una cadena de texto dada.\n",
    "'''\n",
    "\n",
    "def contar_caracteres (cadena):\n",
    "    numero_caracteres = len (cadena)\n",
    "\n",
    "    return numero_caracteres"
   ]
  },
  {
   "cell_type": "code",
   "execution_count": 62,
   "metadata": {},
   "outputs": [],
   "source": [
    "# Ejemplo de uso\n",
    "texto = \"buenos dias a todas las personas\""
   ]
  },
  {
   "cell_type": "code",
   "execution_count": 63,
   "metadata": {},
   "outputs": [
    {
     "name": "stdout",
     "output_type": "stream",
     "text": [
      "32\n"
     ]
    }
   ],
   "source": [
    "resultado = contar_caracteres (texto)\n",
    "print(resultado)"
   ]
  },
  {
   "cell_type": "code",
   "execution_count": null,
   "metadata": {},
   "outputs": [],
   "source": [
    "# Ejercicio 26\n",
    "'''\n",
    "Crea una función lambda que calcule el resto de la división entre dos números dados.\n",
    "'''\n",
    "\n",
    "def resto_division (numero1, numero2):\n",
    "    resto = lambda x, y: x % y\n",
    "\n",
    "    return resto (numero1, numero2)"
   ]
  },
  {
   "cell_type": "code",
   "execution_count": 68,
   "metadata": {},
   "outputs": [],
   "source": [
    "# Ejemplo de uso\n",
    "num1 = 6\n",
    "num2 = 3"
   ]
  },
  {
   "cell_type": "code",
   "execution_count": 69,
   "metadata": {},
   "outputs": [
    {
     "name": "stdout",
     "output_type": "stream",
     "text": [
      "0\n"
     ]
    }
   ],
   "source": [
    "resultado = resto_division (num1, num2)\n",
    "print(resultado)"
   ]
  },
  {
   "cell_type": "code",
   "execution_count": null,
   "metadata": {},
   "outputs": [],
   "source": [
    "# Ejercicio 27\n",
    "'''\n",
    "Crea una función que calcule el promedio de una lista de números.\n",
    "'''\n",
    "\n",
    "def promedio_lista (lista):\n",
    "    promedio = sum (lista) / len (lista)\n",
    "\n",
    "    return promedio"
   ]
  },
  {
   "cell_type": "code",
   "execution_count": 71,
   "metadata": {},
   "outputs": [],
   "source": [
    "# Ejemplo de uso\n",
    "lista_b = [4, 3, 7, 5]"
   ]
  },
  {
   "cell_type": "code",
   "execution_count": 72,
   "metadata": {},
   "outputs": [
    {
     "name": "stdout",
     "output_type": "stream",
     "text": [
      "4.75\n"
     ]
    }
   ],
   "source": [
    "resultado = promedio_lista (lista_b)\n",
    "print (resultado)"
   ]
  },
  {
   "cell_type": "code",
   "execution_count": null,
   "metadata": {},
   "outputs": [],
   "source": [
    "# Ejercicio 28\n",
    "'''\n",
    "Crea una función que busque y devuelva el primer elemento duplicado en una lista dada.\n",
    "'''\n",
    "\n",
    "def buscar_duplicado (lista):\n",
    "    elementos_anteriores = []\n",
    "\n",
    "    for elemento in lista:\n",
    "        if elemento in elementos_anteriores:\n",
    "            return elemento\n",
    "        \n",
    "        elementos_anteriores.append(elemento)"
   ]
  },
  {
   "cell_type": "code",
   "execution_count": 74,
   "metadata": {},
   "outputs": [],
   "source": [
    "# Ejemplo de uso\n",
    "lista_b = [4, 7, 6, 3, 3, 5, 5]"
   ]
  },
  {
   "cell_type": "code",
   "execution_count": 75,
   "metadata": {},
   "outputs": [
    {
     "name": "stdout",
     "output_type": "stream",
     "text": [
      "3\n"
     ]
    }
   ],
   "source": [
    "resultado = buscar_duplicado (lista_b)\n",
    "print(resultado)"
   ]
  },
  {
   "cell_type": "code",
   "execution_count": null,
   "metadata": {},
   "outputs": [],
   "source": [
    "# Ejercicio 29\n",
    "'''\n",
    "Crea una función que convierta una variable en una cadena de texto y enmascare todos los caracteres con el\n",
    "carácter '#', excepto los últimos cuatro.\n",
    "'''\n",
    "\n",
    "def enmascarar_caracteres (variable):\n",
    "    cadena = str (variable)\n",
    "    cadena_enmascarada = \"#\" * (len (cadena) - 4) + cadena [-4:]\n",
    "\n",
    "    return cadena_enmascarada"
   ]
  },
  {
   "cell_type": "code",
   "execution_count": 81,
   "metadata": {},
   "outputs": [],
   "source": [
    "# Ejemplo de uso\n",
    "num = \"3467834\""
   ]
  },
  {
   "cell_type": "code",
   "execution_count": 82,
   "metadata": {},
   "outputs": [
    {
     "name": "stdout",
     "output_type": "stream",
     "text": [
      "###7834\n"
     ]
    }
   ],
   "source": [
    "resultado = enmascarar_caracteres (num)\n",
    "print(resultado)"
   ]
  },
  {
   "cell_type": "code",
   "execution_count": null,
   "metadata": {},
   "outputs": [],
   "source": [
    "# Ejercicio 30\n",
    "'''\n",
    "Crea una función que determine si dos palabras son anagramas, es decir, si están formadas por las mismas letras\n",
    "pero en diferente orden.\n",
    "'''\n",
    "\n",
    "def determinar_anagramas (palabra1, palabra2):\n",
    "    anagramas = sorted (palabra1) == sorted (palabra2) # Sorted devuelve una nueva lista ordenada a partir de los elementos del iterable cedido como argumento (lo tuve que mirar)\n",
    "\n",
    "    return anagramas"
   ]
  },
  {
   "cell_type": "code",
   "execution_count": 84,
   "metadata": {},
   "outputs": [],
   "source": [
    "# Ejemplo de uso\n",
    "texto1 = \"jamon\"\n",
    "texto2 = \"monja\""
   ]
  },
  {
   "cell_type": "code",
   "execution_count": 85,
   "metadata": {},
   "outputs": [
    {
     "name": "stdout",
     "output_type": "stream",
     "text": [
      "True\n"
     ]
    }
   ],
   "source": [
    "resultado = determinar_anagramas (texto1, texto2)\n",
    "print(resultado)"
   ]
  },
  {
   "cell_type": "code",
   "execution_count": null,
   "metadata": {},
   "outputs": [],
   "source": [
    "# Ejercicio 31\n",
    "'''\n",
    "Crea una función que solicite al usuario ingresar una lista de nombres y luego solicite un nombre para buscar en\n",
    "esa lista. Si el nombre está en la lista, se imprime un mensaje indicando que fue encontrado, de lo contrario, se\n",
    "lanza una excepción.\n",
    "'''\n",
    "\n",
    "def buscar_nombre ():\n",
    "    lista_nombres = input (\"Introduzca nombres separados únicamente por comas:\")\n",
    "    nombre_buscado = input (\"Introduzca el nombre que desea buscar en la lista\")\n",
    "\n",
    "    if nombre_buscado in lista_nombres:\n",
    "        print(f\"El nombre buscado ({nombre_buscado}) se encuentra en la lista\")\n",
    "    else:\n",
    "        raise ValueError (f\"El nombre buscado ({nombre_buscado}) no se encuentra en la lista\")"
   ]
  },
  {
   "cell_type": "code",
   "execution_count": 89,
   "metadata": {},
   "outputs": [
    {
     "name": "stdout",
     "output_type": "stream",
     "text": [
      "El nombre buscado (maria) se encuentra en la lista\n"
     ]
    }
   ],
   "source": [
    "buscar_nombre()"
   ]
  },
  {
   "cell_type": "code",
   "execution_count": null,
   "metadata": {},
   "outputs": [],
   "source": [
    "# Ejercicio 32\n",
    "'''\n",
    "Crea una función que tome un nombre completo y una lista de empleados, busque el nombre completo en la lista y\n",
    "devuelve el puesto del empleado si está en la lista, de lo contrario, devuelve un mensaje indicando que la persona\n",
    "no trabaja aquí.\n",
    "'''\n",
    "\n",
    "def buscar_empleado (nombre, lista):\n",
    "    for empleado in lista:\n",
    "        if empleado[\"nombre\"] == nombre:\n",
    "            return f\"El puesto de trabajo de {nombre} es {empleado[\"puesto\"]}\"\n",
    "        \n",
    "    return \"La persona buscada no trabaja en este lugar\""
   ]
  },
  {
   "cell_type": "code",
   "execution_count": 93,
   "metadata": {},
   "outputs": [],
   "source": [
    "# Ejemplo de uso\n",
    "empleados = [{\"nombre\": \"David Rodriguez\", \"puesto\": \"electricista\"}, {\"nombre\": \"Juana Martinez\", \"puesto\": \"directora\"}, {\"nombre\": \"Fernando Gomez\", \"puesto\": \"recepcionista\"}]\n",
    "nombre_buscado = \"Juana Martinez\""
   ]
  },
  {
   "cell_type": "code",
   "execution_count": 94,
   "metadata": {},
   "outputs": [
    {
     "name": "stdout",
     "output_type": "stream",
     "text": [
      "El puesto de trabajo de Juana Martinez es directora\n"
     ]
    }
   ],
   "source": [
    "resultado = buscar_empleado (nombre_buscado, empleados)\n",
    "print(resultado)"
   ]
  },
  {
   "cell_type": "code",
   "execution_count": null,
   "metadata": {},
   "outputs": [],
   "source": [
    "# Ejercicio 33\n",
    "'''\n",
    "Crea una función lambda que sume elementos correspondientes de dos listas dadas.\n",
    "'''\n",
    "\n",
    "def sumar_listas (lista1, lista2):\n",
    "    suma = list (map (lambda x, y: x + y, lista1, lista2))\n",
    "\n",
    "    return suma"
   ]
  },
  {
   "cell_type": "code",
   "execution_count": 96,
   "metadata": {},
   "outputs": [],
   "source": [
    "# Ejemplo de uso\n",
    "lista_a = [4, 3, 5, 7, 9]\n",
    "lista_b = [1, 3, 2, 6, 8]"
   ]
  },
  {
   "cell_type": "code",
   "execution_count": 97,
   "metadata": {},
   "outputs": [
    {
     "name": "stdout",
     "output_type": "stream",
     "text": [
      "[5, 6, 7, 13, 17]\n"
     ]
    }
   ],
   "source": [
    "resultado = sumar_listas (lista_a, lista_b)\n",
    "print(resultado)"
   ]
  },
  {
   "cell_type": "code",
   "execution_count": null,
   "metadata": {},
   "outputs": [],
   "source": [
    "# Ejercicio 34\n",
    "'''\n",
    "Crea la clase Arbol , define un árbol genérico con un tronco y ramas como atributos. Los métodos disponibles son:\n",
    "crecer_tronco , nueva_rama , crecer_ramas , quitar_rama e info_arbol . El objetivo es implementar estos métodos para\n",
    "manipular la estructura del árbol.\n",
    "\n",
    "Código a seguir:\n",
    "1. Inicializar un árbol con un tronco de longitud 1 y una lista vacía de ramas.\n",
    "2. Implementar el método crecer_tronco para aumentar la longitud del tronco en una unidad.\n",
    "3. Implementar el método nueva_rama para agregar una nueva rama de longitud 1 a la lista de ramas.\n",
    "4. Implementar el método crecer_ramas para aumentar en una unidad la longitud de todas las ramas existentes.\n",
    "5. Implementar el método quitar_rama para eliminar una rama en una posición específica.\n",
    "6. Implementar el método\n",
    "info_arbol para devolver información sobre la longitud del tronco, el número de ramas y las longitudes de las\n",
    "mismas.\n",
    "\n",
    "Caso de uso:\n",
    "1. Crear un árbol.\n",
    "2. Hacer crecer el tronco del árbol una unidad.\n",
    "3. Añadir una nueva rama al árbol.\n",
    "4. Hacer crecer todas las ramas del árbol una unidad.\n",
    "5. Añadir dos nuevas ramas al árbol.\n",
    "6. Retirar la rama situada en la posición 2.\n",
    "7. Obtener información sobre el árbol.\n",
    "'''\n",
    "\n",
    "class Arbol:\n",
    "    def __init__(self):\n",
    "        self.tronco = 1\n",
    "        self.ramas = []\n",
    "\n",
    "    def crecer_tronco (self):\n",
    "        self.tronco += 1\n",
    "\n",
    "    def nueva_rama (self):\n",
    "        self.ramas.append(1)\n",
    "\n",
    "    def crecer_ramas (self):\n",
    "        self.ramas = [longitud + 1 for longitud in self.ramas]\n",
    "\n",
    "    def quitar_ramas (self, posicion):\n",
    "        if 0 <= posicion < len(self.ramas):\n",
    "            self.ramas.pop(posicion)\n",
    "        \n",
    "        else:\n",
    "            print(f\"No se puede quitar la rama: la posición {posicion} no es válida.\")\n",
    "\n",
    "    def info_arbol (self):\n",
    "        return (f\"Longitud del tronco: {self.tronco}\\n\"\n",
    "                f\"Número de ramas: {len(self.ramas)}\\n\"\n",
    "                f\"Longitudes de las ramas: {self.ramas}\")"
   ]
  },
  {
   "cell_type": "code",
   "execution_count": 2,
   "metadata": {},
   "outputs": [],
   "source": [
    "# Caso de uso:\n",
    "\n",
    "barbol = Arbol()"
   ]
  },
  {
   "cell_type": "code",
   "execution_count": 3,
   "metadata": {},
   "outputs": [],
   "source": [
    "barbol.crecer_tronco()"
   ]
  },
  {
   "cell_type": "code",
   "execution_count": 4,
   "metadata": {},
   "outputs": [
    {
     "data": {
      "text/plain": [
       "2"
      ]
     },
     "execution_count": 4,
     "metadata": {},
     "output_type": "execute_result"
    }
   ],
   "source": [
    "barbol.tronco"
   ]
  },
  {
   "cell_type": "code",
   "execution_count": 5,
   "metadata": {},
   "outputs": [],
   "source": [
    "barbol.nueva_rama()"
   ]
  },
  {
   "cell_type": "code",
   "execution_count": 6,
   "metadata": {},
   "outputs": [
    {
     "data": {
      "text/plain": [
       "[1]"
      ]
     },
     "execution_count": 6,
     "metadata": {},
     "output_type": "execute_result"
    }
   ],
   "source": [
    "barbol.ramas"
   ]
  },
  {
   "cell_type": "code",
   "execution_count": 7,
   "metadata": {},
   "outputs": [],
   "source": [
    "barbol.crecer_ramas()"
   ]
  },
  {
   "cell_type": "code",
   "execution_count": 8,
   "metadata": {},
   "outputs": [
    {
     "data": {
      "text/plain": [
       "[2]"
      ]
     },
     "execution_count": 8,
     "metadata": {},
     "output_type": "execute_result"
    }
   ],
   "source": [
    "barbol.ramas"
   ]
  },
  {
   "cell_type": "code",
   "execution_count": null,
   "metadata": {},
   "outputs": [],
   "source": [
    "barbol.nueva_rama()\n",
    "barbol.nueva_rama()"
   ]
  },
  {
   "cell_type": "code",
   "execution_count": 11,
   "metadata": {},
   "outputs": [
    {
     "data": {
      "text/plain": [
       "[2, 1, 1]"
      ]
     },
     "execution_count": 11,
     "metadata": {},
     "output_type": "execute_result"
    }
   ],
   "source": [
    "barbol.ramas"
   ]
  },
  {
   "cell_type": "code",
   "execution_count": 12,
   "metadata": {},
   "outputs": [],
   "source": [
    "barbol.quitar_ramas(2)"
   ]
  },
  {
   "cell_type": "code",
   "execution_count": 13,
   "metadata": {},
   "outputs": [
    {
     "data": {
      "text/plain": [
       "[2, 1]"
      ]
     },
     "execution_count": 13,
     "metadata": {},
     "output_type": "execute_result"
    }
   ],
   "source": [
    "barbol.ramas"
   ]
  },
  {
   "cell_type": "code",
   "execution_count": 15,
   "metadata": {},
   "outputs": [
    {
     "name": "stdout",
     "output_type": "stream",
     "text": [
      "Longitud del tronco: 2\n",
      "Número de ramas: 2\n",
      "Longitudes de las ramas: [2, 1]\n"
     ]
    }
   ],
   "source": [
    "print(barbol.info_arbol())"
   ]
  },
  {
   "cell_type": "code",
   "execution_count": null,
   "metadata": {},
   "outputs": [],
   "source": [
    "# Ejercicio 35\n",
    "\n",
    "# ¿No hay ejercicio 35?"
   ]
  },
  {
   "cell_type": "code",
   "execution_count": null,
   "metadata": {},
   "outputs": [],
   "source": [
    "# Ejercicio 36\n",
    "'''\n",
    "Crea la clase UsuarioBanco ,representa a un usuario de un banco con su nombre, saldo y si tiene o no cuenta\n",
    "corriente. Proporciona métodos para realizar operaciones como retirar dinero, transferir dinero desde otro usuario y\n",
    "agregar dinero al saldo.\n",
    "\n",
    "Código a seguir:\n",
    "1. Inicializar un usuario con su nombre, saldo y si tiene o no cuenta corriente mediante True y False .\n",
    "2. Implementar el método retirar_dinero para retirar dinero del saldo del usuario. Lanzará un error en caso de no\n",
    "poder hacerse.\n",
    "3. Implementar el método transferir_dinero para realizar una transferencia desde otro usuario al usuario actual.\n",
    "Lanzará un error en caso de no poder hacerse.\n",
    "4. Implementar el método agregar_dinero para agregar dinero al saldo del usuario.\n",
    "\n",
    "Caso de uso:\n",
    "1. Crear dos usuarios: \"Alicia\" con saldo inicial de 100 y \"Bob\" con saldo inicial de 50, ambos con cuenta corriente.\n",
    "PROYECTO LÓGICA: Katas de Python 3\n",
    "2. Agregar 20 unidades de saldo de \"Bob\".\n",
    "3. Hacer una transferencia de 80 unidades desde \"Bob\" a \"Alicia\".\n",
    "4. Retirar 50 unidades de saldo a \"Alicia\".\n",
    "'''\n",
    "\n",
    "class UsuarioBanco:\n",
    "    def __init__(self, nombre, saldo, cuenta_corriente):\n",
    "        self.nombre = nombre\n",
    "        self.saldo = saldo\n",
    "        self.cuenta_corriente = cuenta_corriente\n",
    "\n",
    "    def retirar_dinero (self, cantidad):\n",
    "        if self.saldo < cantidad:\n",
    "            raise ValueError (\"No hay tanto saldo en la cuenta\")\n",
    "        \n",
    "        self.saldo -= cantidad\n",
    "\n",
    "    def transferir_dinero (self, otra_cuenta, cantidad):\n",
    "        if otra_cuenta.saldo < cantidad:\n",
    "            raise ValueError (\"No hay tanto sueldo en la cuenta para transferir\")\n",
    "        \n",
    "        otra_cuenta.retirar_dinero(cantidad)\n",
    "        self.agregar_dinero(cantidad)\n",
    "\n",
    "    def agregar_dinero (self, cantidad):\n",
    "        self.saldo += cantidad"
   ]
  },
  {
   "cell_type": "code",
   "execution_count": null,
   "metadata": {},
   "outputs": [
    {
     "name": "stdout",
     "output_type": "stream",
     "text": [
      "No se puede realizar la operación\n"
     ]
    }
   ],
   "source": [
    "# Caso de uso\n",
    "\n",
    "if __name__ == \"__main__\":\n",
    "    # 1. Crear dos usuarios: \"Alicia\" con saldo inicial de 100 y \"Bob\" con saldo inicial de 50, ambos con cuenta corriente.\n",
    "    alicia = UsuarioBanco(\"Alicia\", 100, True)\n",
    "    bob = UsuarioBanco(\"Bob\", 50, True)\n",
    "\n",
    "    # 2. Agregar 20 unidades de saldo de \"Bob\".\n",
    "    bob.agregar_dinero(20)\n",
    "\n",
    "    # 3. Hacer una transferencia de 80 unidades desde \"Bob\" a \"Alicia\".\n",
    "    try:\n",
    "        bob.transferir_dinero(alicia, 80) # Da error\n",
    "\n",
    "    except ValueError:\n",
    "        print(\"No se puede realizar la operación\")\n",
    "\n",
    "    # 4. Retirar 50 unidades de saldo a \"Alicia\".\n",
    "    try:\n",
    "        alicia.retirar_dinero(50) # Da error\n",
    "\n",
    "    except ValueError:\n",
    "        print(\"No se puede realizar la operación\")"
   ]
  },
  {
   "cell_type": "code",
   "execution_count": null,
   "metadata": {},
   "outputs": [],
   "source": [
    "# Ejercicio 37\n",
    "'''\n",
    "Crea una función llamada procesar_texto que procesa un texto según la opción especificada: contar_palabras ,\n",
    "reemplazar_palabras , eliminar_palabra . Estas opciones son otras funciones que tenemos que definir primero y llamar dentro\n",
    "de la función procesar_texto.\n",
    "\n",
    "Código a seguir:\n",
    "1. Crear una función contar_palabras para contar el número de veces que aparece cada palabra en el texto. Tiene\n",
    "que devolver un diccionario.\n",
    "2. Crear una función reemplazar_palabras para remplazar una palabra_original del texto por una palabra_nueva . Tiene\n",
    "que devolver el texto con el remplazo de palabras.\n",
    "3. Crear una función eliminar_palabra para eliminar una palabra del texto. Tiene que devolver el texto con la palabra\n",
    "eliminada.\n",
    "4. Crear la función procesar_texto que tome un texto, una opción(entre \"contar\", \"reemplazar\", \"eliminar\") y un\n",
    "número de argumentos variable según la opción indicada.\n",
    "\n",
    "Caso de uso:\n",
    "Comprueba el funcionamiento completo de la función procesar_texto.\n",
    "'''\n",
    "\n",
    "def contar_palabras (texto):\n",
    "    diccionario = {}\n",
    "    palabras = texto.split()\n",
    "\n",
    "    for palabra in palabras:\n",
    "        if palabra in diccionario:\n",
    "            diccionario[palabra] += 1\n",
    "        else:\n",
    "            diccionario[palabra] = 1\n",
    "\n",
    "    return diccionario\n",
    "\n",
    "def reemplazar_palabras (texto, palabra_original, palabra_nueva):\n",
    "    palabras_reemplazadas = texto.replace (palabra_original, palabra_nueva)\n",
    "\n",
    "    return palabras_reemplazadas\n",
    "\n",
    "def eliminar_palabra (texto, palabra):\n",
    "    palabras = texto.split()\n",
    "    \n",
    "    palabras_eliminadas = \" \".join(filter(lambda x: x != palabra, palabras))\n",
    "\n",
    "    return palabras_eliminadas\n",
    "\n",
    "def procesar_texto (texto, opcion, *args):\n",
    "    if opcion == \"contar\":\n",
    "        return contar_palabras (texto)\n",
    "    \n",
    "    elif opcion == \"reemplazar\":\n",
    "        return reemplazar_palabras (texto, args[0], args[1])\n",
    "    \n",
    "    elif opcion == \"eliminar\":\n",
    "        return eliminar_palabra (texto, args[0])\n",
    "    "
   ]
  },
  {
   "cell_type": "code",
   "execution_count": 2,
   "metadata": {},
   "outputs": [
    {
     "name": "stdout",
     "output_type": "stream",
     "text": [
      "El resultado de contar palabras es: {'buenos': 1, 'dias': 1, 'a': 1, 'todas': 1, 'las': 1, 'personas': 1}\n",
      "El resultado de reemplazar palabras es: malos dias a todas las personas\n",
      "El resultado de eliminar palabras es: buenos dias a las personas\n"
     ]
    }
   ],
   "source": [
    "# Caso de uso\n",
    "\n",
    "if __name__ == \"__main__\":\n",
    "    texto = \"buenos dias a todas las personas\"\n",
    "\n",
    "    # Contar palabras\n",
    "    resultado_contar = procesar_texto (texto, \"contar\")\n",
    "    print (f\"El resultado de contar palabras es: {resultado_contar}\")\n",
    "\n",
    "    # Reemplazar palabras\n",
    "    resultado_reemplazar = procesar_texto (texto, \"reemplazar\", \"buenos\", \"malos\")\n",
    "    print (f\"El resultado de reemplazar palabras es: {resultado_reemplazar}\")\n",
    "\n",
    "    # Eliminar palabras\n",
    "    resultado_eliminar = procesar_texto (texto, \"eliminar\", \"todas\")\n",
    "    print(f\"El resultado de eliminar palabras es: {resultado_eliminar}\")"
   ]
  },
  {
   "cell_type": "code",
   "execution_count": null,
   "metadata": {},
   "outputs": [
    {
     "name": "stdout",
     "output_type": "stream",
     "text": [
      "Tarde\n"
     ]
    }
   ],
   "source": [
    "# Ejercicio 38\n",
    "'''\n",
    "Genera un programa que nos diga si es de noche, de día o tarde según la hora proporcionada por el usuario.\n",
    "'''\n",
    "\n",
    "def determinar_horario (hora):\n",
    "    if 6 <= hora < 12:\n",
    "        return \"Día\"\n",
    "    \n",
    "    elif 12 <= hora < 18:\n",
    "        return \"Tarde\"\n",
    "    \n",
    "    elif (0 <= hora < 6) or (18 <= hora < 24):\n",
    "        return \"Noche\"\n",
    "    \n",
    "    else:\n",
    "        return \"Hora no válida\"\n",
    "\n",
    "def main ():\n",
    "    pedir_hora = input (\"Por favor, ingrese una hora entre las 0 y las 23:\")\n",
    "    hora = int (pedir_hora)\n",
    "\n",
    "    resultado = determinar_horario (hora)\n",
    "    print (resultado)\n",
    "\n",
    "if __name__ == \"__main__\":\n",
    "    main ()"
   ]
  },
  {
   "cell_type": "code",
   "execution_count": null,
   "metadata": {},
   "outputs": [
    {
     "name": "stdout",
     "output_type": "stream",
     "text": [
      "Bien\n"
     ]
    }
   ],
   "source": [
    "# Ejercicio 39\n",
    "'''\n",
    "Escribe un programa que determine qué calificación en texto tiene un alumno en base a su calificación numérica.\n",
    "Las reglas de calificación son:\n",
    "- 0 - 69 insuficiente\n",
    "- 70 - 79 bien\n",
    "- 80 - 89 muy bien\n",
    "- 90 - 100 excelente\n",
    "'''\n",
    "\n",
    "def determinar_calificacion (calificacion):\n",
    "    if 0 <= calificacion < 70:\n",
    "        return \"Insuficiente\"\n",
    "    \n",
    "    elif 70 <= calificacion < 80:\n",
    "        return \"Bien\"\n",
    "    \n",
    "    elif 80 <= calificacion < 90:\n",
    "        return \"Muy bien\"\n",
    "    \n",
    "    elif 90 <= calificacion <= 100:\n",
    "        return \"Excelente\"\n",
    "    \n",
    "    else:\n",
    "        return \"Calificación no válida\"\n",
    "\n",
    "def main ():\n",
    "    pedir_calificacion = input (\"Por favor, introduzca una calificación entre 0 y 100\")\n",
    "    calificacion = int (pedir_calificacion)\n",
    "\n",
    "    resultado = determinar_calificacion (calificacion)\n",
    "    print (resultado)\n",
    "\n",
    "if __name__ == \"__main__\":\n",
    "    main ()"
   ]
  },
  {
   "cell_type": "code",
   "execution_count": null,
   "metadata": {},
   "outputs": [],
   "source": [
    "# Ejercicio 40\n",
    "'''\n",
    "Escribe una función que tome dos parámetros: figura (una cadena que puede ser \"rectangulo\" , \"circulo\" o\n",
    "\"triangulo\" ) y datos (una tupla con los datos necesarios para calcular el área de la figura).\n",
    "'''\n",
    "\n",
    "import math\n",
    "\n",
    "def calcular_area (figura, datos):\n",
    "    if figura == \"rectangulo\":\n",
    "        base, altura = datos\n",
    "        area = base * altura\n",
    "\n",
    "        return area\n",
    "    \n",
    "    elif figura == \"circulo\":\n",
    "        radio, = datos\n",
    "        area = math.pi * (radio ** 2)\n",
    "\n",
    "        return area\n",
    "    \n",
    "    elif figura == \"triangulo\":\n",
    "        base, altura = datos\n",
    "        area = (base * altura) / 2\n",
    "\n",
    "        return area\n",
    "    \n",
    "    else:\n",
    "        return \"Figura no válida\""
   ]
  },
  {
   "cell_type": "code",
   "execution_count": 10,
   "metadata": {},
   "outputs": [
    {
     "name": "stdout",
     "output_type": "stream",
     "text": [
      "Área del rectángulo: 12\n",
      "Área del círculo: 28.274333882308138\n",
      "Área del triángulo: 1.0\n"
     ]
    }
   ],
   "source": [
    "# Ejemplo de uso\n",
    "\n",
    "if __name__ == \"__main__\":\n",
    "    area_rectangulo = calcular_area (\"rectangulo\", (3, 4))\n",
    "    print (f\"Área del rectángulo: {area_rectangulo}\")\n",
    "\n",
    "    area_circulo = calcular_area (\"circulo\", (3,))\n",
    "    print (f\"Área del círculo: {area_circulo}\")\n",
    "\n",
    "    area_triangulo = calcular_area (\"triangulo\", (1, 2))\n",
    "    print (f\"Área del triángulo: {area_triangulo}\")"
   ]
  },
  {
   "cell_type": "code",
   "execution_count": null,
   "metadata": {},
   "outputs": [
    {
     "name": "stdout",
     "output_type": "stream",
     "text": [
      "El precio final es: 40.0\n"
     ]
    }
   ],
   "source": [
    "# Ejercicio 41\n",
    "'''\n",
    "En este ejercicio, se te pedirá que escribas un programa en Python que utilice condicionales para determinar el\n",
    "monto final de una compra en una tienda en línea, después de aplicar un descuento. El programa debe hacer lo\n",
    "siguiente:\n",
    "1. Solicita al usuario que ingrese el precio original de un artículo.\n",
    "2. Pregunta al usuario si tiene un cupón de descuento (respuesta sí o no).\n",
    "3. Si el usuario responde que sí, solicita que ingrese el valor del cupón de descuento.\n",
    "4. Aplica el descuento al precio original del artículo, siempre y cuando el valor del cupón sea válido (es decir, mayor\n",
    "a cero). Por ejemplo, descuento de 15€.\n",
    "5. Muestra el precio final de la compra, teniendo en cuenta el descuento aplicado o sin él.\n",
    "6. Recuerda utilizar estructuras de control de flujo como if, elif y else para llevar a cabo estas acciones en tu\n",
    "programa de Python.\n",
    "'''\n",
    "\n",
    "def calcular_precio ():\n",
    "    precio_original = float (input (\"Introduce el precio original del artículo\"))\n",
    "    tiene_cupon = input (\"¿El artículo tiene un cupón de descuento? (si / no)\")\n",
    "    descuento = 0\n",
    "\n",
    "    if tiene_cupon == \"si\":\n",
    "        descuento = float (input (\"Introduce el valor del cupón de descuento\"))\n",
    "\n",
    "    precio_final = precio_original - descuento\n",
    "    print (f\"El precio final es: {precio_final}\")\n",
    "\n",
    "if __name__ == \"__main__\":\n",
    "    calcular_precio ()"
   ]
  }
 ],
 "metadata": {
  "kernelspec": {
   "display_name": "Python 3",
   "language": "python",
   "name": "python3"
  },
  "language_info": {
   "codemirror_mode": {
    "name": "ipython",
    "version": 3
   },
   "file_extension": ".py",
   "mimetype": "text/x-python",
   "name": "python",
   "nbconvert_exporter": "python",
   "pygments_lexer": "ipython3",
   "version": "3.13.1"
  }
 },
 "nbformat": 4,
 "nbformat_minor": 2
}
